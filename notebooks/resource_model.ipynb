{
 "cells": [
  {
   "cell_type": "code",
   "execution_count": 2,
   "id": "ee183b20-b8a6-4475-b44c-6ed11202fc2e",
   "metadata": {},
   "outputs": [],
   "source": [
    "import river\n",
    "import pandas as pd"
   ]
  },
  {
   "cell_type": "code",
   "execution_count": 3,
   "id": "a1d9718b-8553-48aa-aad0-430592d2b74b",
   "metadata": {},
   "outputs": [
    {
     "name": "stdout",
     "output_type": "stream",
     "text": [
      "Dataset shape: (454, 25)\n",
      "Columns: ['pid', 'comm', 'uid', 'gid', 'ppid', 'user_pid', 'user_ppid', 'cgroup_id', 'cgroup_name', 'user', 'cpu_ns', 'user_faults', 'kernel_faults', 'vm_mmap_bytes', 'vm_munmap_bytes', 'vm_brk_grow_bytes', 'vm_brk_shrink_bytes', 'bytes_written', 'bytes_read', 'isActive', 'wall_time_dt', 'wall_time_ms', 'container_id', 'container_image', 'container_labels_json']\n"
     ]
    }
   ],
   "source": [
    "data_path = \"../data/resource_events.csv\"\n",
    "df = pd.read_csv(data_path)\n",
    "\n",
    "print(\"Dataset shape:\", df.shape)\n",
    "print(\"Columns:\", df.columns.tolist())"
   ]
  },
  {
   "cell_type": "code",
   "execution_count": 5,
   "id": "d2319777-f8d8-463d-9ed8-b8a3d040f93e",
   "metadata": {},
   "outputs": [],
   "source": [
    "feature_cols = [\n",
    "    \"cpu_ns\",\n",
    "    \"user_faults\",\n",
    "    \"kernel_faults\",\n",
    "    \"vm_mmap_bytes\",\n",
    "    \"vm_munmap_bytes\",\n",
    "    \"vm_brk_grow_bytes\",\n",
    "    \"vm_brk_shrink_bytes\",\n",
    "    \"bytes_written\",\n",
    "    \"bytes_read\"\n",
    "]\n",
    "\n",
    "context_cols = [\n",
    "    \"pid\",\n",
    "    \"comm\",\n",
    "    \"user\",\n",
    "    \"container_id\",\n",
    "    \"container_image\",\n",
    "    \"wall_time_ms\"\n",
    "]"
   ]
  },
  {
   "cell_type": "code",
   "execution_count": 6,
   "id": "2ef1a3bf-69e8-490f-af93-5d4c72dd3e12",
   "metadata": {},
   "outputs": [
    {
     "name": "stdout",
     "output_type": "stream",
     "text": [
      "\n",
      "Feature matrix sample:\n"
     ]
    },
    {
     "data": {
      "text/html": [
       "<div>\n",
       "<style scoped>\n",
       "    .dataframe tbody tr th:only-of-type {\n",
       "        vertical-align: middle;\n",
       "    }\n",
       "\n",
       "    .dataframe tbody tr th {\n",
       "        vertical-align: top;\n",
       "    }\n",
       "\n",
       "    .dataframe thead th {\n",
       "        text-align: right;\n",
       "    }\n",
       "</style>\n",
       "<table border=\"1\" class=\"dataframe\">\n",
       "  <thead>\n",
       "    <tr style=\"text-align: right;\">\n",
       "      <th></th>\n",
       "      <th>cpu_ns</th>\n",
       "      <th>user_faults</th>\n",
       "      <th>kernel_faults</th>\n",
       "      <th>vm_mmap_bytes</th>\n",
       "      <th>vm_munmap_bytes</th>\n",
       "      <th>vm_brk_grow_bytes</th>\n",
       "      <th>vm_brk_shrink_bytes</th>\n",
       "      <th>bytes_written</th>\n",
       "      <th>bytes_read</th>\n",
       "    </tr>\n",
       "  </thead>\n",
       "  <tbody>\n",
       "    <tr>\n",
       "      <th>0</th>\n",
       "      <td>3374785</td>\n",
       "      <td>0</td>\n",
       "      <td>0</td>\n",
       "      <td>0</td>\n",
       "      <td>0</td>\n",
       "      <td>0</td>\n",
       "      <td>0</td>\n",
       "      <td>0</td>\n",
       "      <td>0</td>\n",
       "    </tr>\n",
       "    <tr>\n",
       "      <th>1</th>\n",
       "      <td>899677</td>\n",
       "      <td>14</td>\n",
       "      <td>0</td>\n",
       "      <td>0</td>\n",
       "      <td>0</td>\n",
       "      <td>0</td>\n",
       "      <td>0</td>\n",
       "      <td>498</td>\n",
       "      <td>2660</td>\n",
       "    </tr>\n",
       "    <tr>\n",
       "      <th>2</th>\n",
       "      <td>0</td>\n",
       "      <td>0</td>\n",
       "      <td>0</td>\n",
       "      <td>0</td>\n",
       "      <td>0</td>\n",
       "      <td>0</td>\n",
       "      <td>0</td>\n",
       "      <td>0</td>\n",
       "      <td>0</td>\n",
       "    </tr>\n",
       "    <tr>\n",
       "      <th>3</th>\n",
       "      <td>12700969</td>\n",
       "      <td>2</td>\n",
       "      <td>0</td>\n",
       "      <td>0</td>\n",
       "      <td>0</td>\n",
       "      <td>0</td>\n",
       "      <td>0</td>\n",
       "      <td>0</td>\n",
       "      <td>4</td>\n",
       "    </tr>\n",
       "    <tr>\n",
       "      <th>4</th>\n",
       "      <td>3758715</td>\n",
       "      <td>23</td>\n",
       "      <td>1</td>\n",
       "      <td>0</td>\n",
       "      <td>0</td>\n",
       "      <td>0</td>\n",
       "      <td>0</td>\n",
       "      <td>17126</td>\n",
       "      <td>14909</td>\n",
       "    </tr>\n",
       "  </tbody>\n",
       "</table>\n",
       "</div>"
      ],
      "text/plain": [
       "     cpu_ns  user_faults  kernel_faults  vm_mmap_bytes  vm_munmap_bytes  \\\n",
       "0   3374785            0              0              0                0   \n",
       "1    899677           14              0              0                0   \n",
       "2         0            0              0              0                0   \n",
       "3  12700969            2              0              0                0   \n",
       "4   3758715           23              1              0                0   \n",
       "\n",
       "   vm_brk_grow_bytes  vm_brk_shrink_bytes  bytes_written  bytes_read  \n",
       "0                  0                    0              0           0  \n",
       "1                  0                    0            498        2660  \n",
       "2                  0                    0              0           0  \n",
       "3                  0                    0              0           4  \n",
       "4                  0                    0          17126       14909  "
      ]
     },
     "metadata": {},
     "output_type": "display_data"
    },
    {
     "name": "stdout",
     "output_type": "stream",
     "text": [
      "\n",
      "Context sample:\n"
     ]
    },
    {
     "data": {
      "text/html": [
       "<div>\n",
       "<style scoped>\n",
       "    .dataframe tbody tr th:only-of-type {\n",
       "        vertical-align: middle;\n",
       "    }\n",
       "\n",
       "    .dataframe tbody tr th {\n",
       "        vertical-align: top;\n",
       "    }\n",
       "\n",
       "    .dataframe thead th {\n",
       "        text-align: right;\n",
       "    }\n",
       "</style>\n",
       "<table border=\"1\" class=\"dataframe\">\n",
       "  <thead>\n",
       "    <tr style=\"text-align: right;\">\n",
       "      <th></th>\n",
       "      <th>pid</th>\n",
       "      <th>comm</th>\n",
       "      <th>user</th>\n",
       "      <th>container_id</th>\n",
       "      <th>container_image</th>\n",
       "      <th>wall_time_ms</th>\n",
       "    </tr>\n",
       "  </thead>\n",
       "  <tbody>\n",
       "    <tr>\n",
       "      <th>0</th>\n",
       "      <td>237</td>\n",
       "      <td>chronyd</td>\n",
       "      <td>NaN</td>\n",
       "      <td>NaN</td>\n",
       "      <td>NaN</td>\n",
       "      <td>1757364894741</td>\n",
       "    </tr>\n",
       "    <tr>\n",
       "      <th>1</th>\n",
       "      <td>4226</td>\n",
       "      <td>containerd-shim</td>\n",
       "      <td>root</td>\n",
       "      <td>NaN</td>\n",
       "      <td>NaN</td>\n",
       "      <td>1757364894741</td>\n",
       "    </tr>\n",
       "    <tr>\n",
       "      <th>2</th>\n",
       "      <td>3806</td>\n",
       "      <td>buildkitd</td>\n",
       "      <td>root</td>\n",
       "      <td>NaN</td>\n",
       "      <td>NaN</td>\n",
       "      <td>1757364894741</td>\n",
       "    </tr>\n",
       "    <tr>\n",
       "      <th>3</th>\n",
       "      <td>4323</td>\n",
       "      <td>VM Periodic Tas</td>\n",
       "      <td>systemd-network</td>\n",
       "      <td>04242fd9b1ae2cf32adc297f0b79e8120c2833f0e4cfe5...</td>\n",
       "      <td>provectuslabs/kafka-ui:latest</td>\n",
       "      <td>1757364894741</td>\n",
       "    </tr>\n",
       "    <tr>\n",
       "      <th>4</th>\n",
       "      <td>7710</td>\n",
       "      <td>main</td>\n",
       "      <td>aleyi</td>\n",
       "      <td>NaN</td>\n",
       "      <td>NaN</td>\n",
       "      <td>1757364894741</td>\n",
       "    </tr>\n",
       "  </tbody>\n",
       "</table>\n",
       "</div>"
      ],
      "text/plain": [
       "    pid             comm             user  \\\n",
       "0   237          chronyd              NaN   \n",
       "1  4226  containerd-shim             root   \n",
       "2  3806        buildkitd             root   \n",
       "3  4323  VM Periodic Tas  systemd-network   \n",
       "4  7710             main            aleyi   \n",
       "\n",
       "                                        container_id  \\\n",
       "0                                                NaN   \n",
       "1                                                NaN   \n",
       "2                                                NaN   \n",
       "3  04242fd9b1ae2cf32adc297f0b79e8120c2833f0e4cfe5...   \n",
       "4                                                NaN   \n",
       "\n",
       "                 container_image   wall_time_ms  \n",
       "0                            NaN  1757364894741  \n",
       "1                            NaN  1757364894741  \n",
       "2                            NaN  1757364894741  \n",
       "3  provectuslabs/kafka-ui:latest  1757364894741  \n",
       "4                            NaN  1757364894741  "
      ]
     },
     "metadata": {},
     "output_type": "display_data"
    }
   ],
   "source": [
    "X = df[feature_cols].copy()\n",
    "context = df[context_cols].copy()\n",
    "\n",
    "print(\"\\nFeature matrix sample:\")\n",
    "display(X.head())\n",
    "\n",
    "print(\"\\nContext sample:\")\n",
    "display(context.head())"
   ]
  },
  {
   "cell_type": "code",
   "execution_count": 7,
   "id": "c6134c08-dbb2-4f93-883d-31b01ae10586",
   "metadata": {},
   "outputs": [],
   "source": [
    "X = X.fillna(0)"
   ]
  },
  {
   "cell_type": "code",
   "execution_count": 9,
   "id": "9800ac50-175f-45f7-b06f-d2f36e7caf92",
   "metadata": {},
   "outputs": [
    {
     "name": "stdout",
     "output_type": "stream",
     "text": [
      "\n",
      "Example record with context:\n",
      "({'cpu_ns': 3374785, 'user_faults': 0, 'kernel_faults': 0, 'vm_mmap_bytes': 0, 'vm_munmap_bytes': 0, 'vm_brk_grow_bytes': 0, 'vm_brk_shrink_bytes': 0, 'bytes_written': 0, 'bytes_read': 0}, {'pid': 237, 'comm': 'chronyd', 'user': nan, 'container_id': nan, 'container_image': nan, 'wall_time_ms': 1757364894741})\n"
     ]
    }
   ],
   "source": [
    "records = []\n",
    "for i, row in X.iterrows():\n",
    "    record = row.to_dict()\n",
    "    # Keep context attached\n",
    "    records.append((record, context.iloc[i].to_dict()))\n",
    "\n",
    "print(\"\\nExample record with context:\")\n",
    "print(records[0])"
   ]
  },
  {
   "cell_type": "code",
   "execution_count": null,
   "id": "3ab471d1-196a-4e8f-892e-66ae98158017",
   "metadata": {},
   "outputs": [],
   "source": []
  },
  {
   "cell_type": "code",
   "execution_count": null,
   "id": "1db0a1fb-be9f-4cf1-b41d-326e87dd705d",
   "metadata": {},
   "outputs": [],
   "source": []
  }
 ],
 "metadata": {
  "kernelspec": {
   "display_name": "Python 3 (ipykernel)",
   "language": "python",
   "name": "python3"
  },
  "language_info": {
   "codemirror_mode": {
    "name": "ipython",
    "version": 3
   },
   "file_extension": ".py",
   "mimetype": "text/x-python",
   "name": "python",
   "nbconvert_exporter": "python",
   "pygments_lexer": "ipython3",
   "version": "3.13.5"
  }
 },
 "nbformat": 4,
 "nbformat_minor": 5
}
