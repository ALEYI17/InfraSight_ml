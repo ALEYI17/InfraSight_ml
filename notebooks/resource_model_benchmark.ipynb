{
 "cells": [
  {
   "cell_type": "code",
   "execution_count": 1,
   "id": "ee183b20-b8a6-4475-b44c-6ed11202fc2e",
   "metadata": {},
   "outputs": [],
   "source": [
    "import river\n",
    "import pandas as pd"
   ]
  },
  {
   "cell_type": "code",
   "execution_count": 2,
   "id": "a1d9718b-8553-48aa-aad0-430592d2b74b",
   "metadata": {},
   "outputs": [
    {
     "name": "stdout",
     "output_type": "stream",
     "text": [
      "Dataset shape: (5024, 25)\n",
      "Columns: ['pid', 'comm', 'uid', 'gid', 'ppid', 'user_pid', 'user_ppid', 'cgroup_id', 'cgroup_name', 'user', 'cpu_ns', 'user_faults', 'kernel_faults', 'vm_mmap_bytes', 'vm_munmap_bytes', 'vm_brk_grow_bytes', 'vm_brk_shrink_bytes', 'bytes_written', 'bytes_read', 'isActive', 'wall_time_dt', 'wall_time_ms', 'container_id', 'container_image', 'container_labels_json']\n"
     ]
    }
   ],
   "source": [
    "data_path = \"../data/resource_events2.csv\"\n",
    "df = pd.read_csv(data_path)\n",
    "\n",
    "print(\"Dataset shape:\", df.shape)\n",
    "print(\"Columns:\", df.columns.tolist())"
   ]
  },
  {
   "cell_type": "code",
   "execution_count": 3,
   "id": "d2319777-f8d8-463d-9ed8-b8a3d040f93e",
   "metadata": {},
   "outputs": [],
   "source": [
    "feature_cols = [\n",
    "    \"cpu_ns\",\n",
    "    \"user_faults\",\n",
    "    \"kernel_faults\",\n",
    "    \"vm_mmap_bytes\",\n",
    "    \"vm_munmap_bytes\",\n",
    "    \"vm_brk_grow_bytes\",\n",
    "    \"vm_brk_shrink_bytes\",\n",
    "    \"bytes_written\",\n",
    "    \"bytes_read\"\n",
    "]\n",
    "\n",
    "context_cols = [\n",
    "    \"pid\",\n",
    "    \"comm\",\n",
    "    \"user\",\n",
    "    \"container_id\",\n",
    "    \"container_image\",\n",
    "    \"wall_time_ms\"\n",
    "]"
   ]
  },
  {
   "cell_type": "code",
   "execution_count": 4,
   "id": "2ef1a3bf-69e8-490f-af93-5d4c72dd3e12",
   "metadata": {},
   "outputs": [
    {
     "name": "stdout",
     "output_type": "stream",
     "text": [
      "\n",
      "Feature matrix sample:\n"
     ]
    },
    {
     "data": {
      "text/html": [
       "<div>\n",
       "<style scoped>\n",
       "    .dataframe tbody tr th:only-of-type {\n",
       "        vertical-align: middle;\n",
       "    }\n",
       "\n",
       "    .dataframe tbody tr th {\n",
       "        vertical-align: top;\n",
       "    }\n",
       "\n",
       "    .dataframe thead th {\n",
       "        text-align: right;\n",
       "    }\n",
       "</style>\n",
       "<table border=\"1\" class=\"dataframe\">\n",
       "  <thead>\n",
       "    <tr style=\"text-align: right;\">\n",
       "      <th></th>\n",
       "      <th>cpu_ns</th>\n",
       "      <th>user_faults</th>\n",
       "      <th>kernel_faults</th>\n",
       "      <th>vm_mmap_bytes</th>\n",
       "      <th>vm_munmap_bytes</th>\n",
       "      <th>vm_brk_grow_bytes</th>\n",
       "      <th>vm_brk_shrink_bytes</th>\n",
       "      <th>bytes_written</th>\n",
       "      <th>bytes_read</th>\n",
       "    </tr>\n",
       "  </thead>\n",
       "  <tbody>\n",
       "    <tr>\n",
       "      <th>0</th>\n",
       "      <td>0</td>\n",
       "      <td>0</td>\n",
       "      <td>0</td>\n",
       "      <td>0</td>\n",
       "      <td>0</td>\n",
       "      <td>0</td>\n",
       "      <td>0</td>\n",
       "      <td>0</td>\n",
       "      <td>0</td>\n",
       "    </tr>\n",
       "    <tr>\n",
       "      <th>1</th>\n",
       "      <td>0</td>\n",
       "      <td>0</td>\n",
       "      <td>0</td>\n",
       "      <td>0</td>\n",
       "      <td>0</td>\n",
       "      <td>0</td>\n",
       "      <td>0</td>\n",
       "      <td>0</td>\n",
       "      <td>0</td>\n",
       "    </tr>\n",
       "    <tr>\n",
       "      <th>2</th>\n",
       "      <td>562689</td>\n",
       "      <td>2</td>\n",
       "      <td>0</td>\n",
       "      <td>0</td>\n",
       "      <td>0</td>\n",
       "      <td>0</td>\n",
       "      <td>0</td>\n",
       "      <td>0</td>\n",
       "      <td>0</td>\n",
       "    </tr>\n",
       "    <tr>\n",
       "      <th>3</th>\n",
       "      <td>275860759</td>\n",
       "      <td>2757</td>\n",
       "      <td>5</td>\n",
       "      <td>0</td>\n",
       "      <td>0</td>\n",
       "      <td>0</td>\n",
       "      <td>0</td>\n",
       "      <td>304006</td>\n",
       "      <td>173388</td>\n",
       "    </tr>\n",
       "    <tr>\n",
       "      <th>4</th>\n",
       "      <td>0</td>\n",
       "      <td>0</td>\n",
       "      <td>0</td>\n",
       "      <td>0</td>\n",
       "      <td>0</td>\n",
       "      <td>0</td>\n",
       "      <td>0</td>\n",
       "      <td>0</td>\n",
       "      <td>0</td>\n",
       "    </tr>\n",
       "  </tbody>\n",
       "</table>\n",
       "</div>"
      ],
      "text/plain": [
       "      cpu_ns  user_faults  kernel_faults  vm_mmap_bytes  vm_munmap_bytes  \\\n",
       "0          0            0              0              0                0   \n",
       "1          0            0              0              0                0   \n",
       "2     562689            2              0              0                0   \n",
       "3  275860759         2757              5              0                0   \n",
       "4          0            0              0              0                0   \n",
       "\n",
       "   vm_brk_grow_bytes  vm_brk_shrink_bytes  bytes_written  bytes_read  \n",
       "0                  0                    0              0           0  \n",
       "1                  0                    0              0           0  \n",
       "2                  0                    0              0           0  \n",
       "3                  0                    0         304006      173388  \n",
       "4                  0                    0              0           0  "
      ]
     },
     "metadata": {},
     "output_type": "display_data"
    },
    {
     "name": "stdout",
     "output_type": "stream",
     "text": [
      "\n",
      "Context sample:\n"
     ]
    },
    {
     "data": {
      "text/html": [
       "<div>\n",
       "<style scoped>\n",
       "    .dataframe tbody tr th:only-of-type {\n",
       "        vertical-align: middle;\n",
       "    }\n",
       "\n",
       "    .dataframe tbody tr th {\n",
       "        vertical-align: top;\n",
       "    }\n",
       "\n",
       "    .dataframe thead th {\n",
       "        text-align: right;\n",
       "    }\n",
       "</style>\n",
       "<table border=\"1\" class=\"dataframe\">\n",
       "  <thead>\n",
       "    <tr style=\"text-align: right;\">\n",
       "      <th></th>\n",
       "      <th>pid</th>\n",
       "      <th>comm</th>\n",
       "      <th>user</th>\n",
       "      <th>container_id</th>\n",
       "      <th>container_image</th>\n",
       "      <th>wall_time_ms</th>\n",
       "    </tr>\n",
       "  </thead>\n",
       "  <tbody>\n",
       "    <tr>\n",
       "      <th>0</th>\n",
       "      <td>307</td>\n",
       "      <td>weston</td>\n",
       "      <td>aleyi</td>\n",
       "      <td>NaN</td>\n",
       "      <td>NaN</td>\n",
       "      <td>1757522094277</td>\n",
       "    </tr>\n",
       "    <tr>\n",
       "      <th>1</th>\n",
       "      <td>680</td>\n",
       "      <td>systemd-logind</td>\n",
       "      <td>root</td>\n",
       "      <td>NaN</td>\n",
       "      <td>NaN</td>\n",
       "      <td>1757522094277</td>\n",
       "    </tr>\n",
       "    <tr>\n",
       "      <th>2</th>\n",
       "      <td>2444</td>\n",
       "      <td>buildkitd</td>\n",
       "      <td>root</td>\n",
       "      <td>NaN</td>\n",
       "      <td>NaN</td>\n",
       "      <td>1757522094277</td>\n",
       "    </tr>\n",
       "    <tr>\n",
       "      <th>3</th>\n",
       "      <td>3798</td>\n",
       "      <td>ThreadPool</td>\n",
       "      <td>systemd-resolve</td>\n",
       "      <td>f111e1925e8b07a6b917d9c963da0ce52f4d23bf654dc5...</td>\n",
       "      <td>clickhouse/clickhouse-server:latest</td>\n",
       "      <td>1757522094277</td>\n",
       "    </tr>\n",
       "    <tr>\n",
       "      <th>4</th>\n",
       "      <td>2461</td>\n",
       "      <td>Relay(1457)</td>\n",
       "      <td>root</td>\n",
       "      <td>NaN</td>\n",
       "      <td>NaN</td>\n",
       "      <td>1757522094277</td>\n",
       "    </tr>\n",
       "  </tbody>\n",
       "</table>\n",
       "</div>"
      ],
      "text/plain": [
       "    pid            comm             user  \\\n",
       "0   307          weston            aleyi   \n",
       "1   680  systemd-logind             root   \n",
       "2  2444       buildkitd             root   \n",
       "3  3798      ThreadPool  systemd-resolve   \n",
       "4  2461     Relay(1457)             root   \n",
       "\n",
       "                                        container_id  \\\n",
       "0                                                NaN   \n",
       "1                                                NaN   \n",
       "2                                                NaN   \n",
       "3  f111e1925e8b07a6b917d9c963da0ce52f4d23bf654dc5...   \n",
       "4                                                NaN   \n",
       "\n",
       "                       container_image   wall_time_ms  \n",
       "0                                  NaN  1757522094277  \n",
       "1                                  NaN  1757522094277  \n",
       "2                                  NaN  1757522094277  \n",
       "3  clickhouse/clickhouse-server:latest  1757522094277  \n",
       "4                                  NaN  1757522094277  "
      ]
     },
     "metadata": {},
     "output_type": "display_data"
    }
   ],
   "source": [
    "X = df[feature_cols].copy()\n",
    "context = df[context_cols].copy()\n",
    "\n",
    "print(\"\\nFeature matrix sample:\")\n",
    "display(X.head())\n",
    "\n",
    "print(\"\\nContext sample:\")\n",
    "display(context.head())"
   ]
  },
  {
   "cell_type": "code",
   "execution_count": 5,
   "id": "c6134c08-dbb2-4f93-883d-31b01ae10586",
   "metadata": {},
   "outputs": [],
   "source": [
    "X = X.fillna(0)"
   ]
  },
  {
   "cell_type": "code",
   "execution_count": 6,
   "id": "9800ac50-175f-45f7-b06f-d2f36e7caf92",
   "metadata": {},
   "outputs": [
    {
     "name": "stdout",
     "output_type": "stream",
     "text": [
      "\n",
      "Example record with context:\n",
      "({'cpu_ns': 0, 'user_faults': 0, 'kernel_faults': 0, 'vm_mmap_bytes': 0, 'vm_munmap_bytes': 0, 'vm_brk_grow_bytes': 0, 'vm_brk_shrink_bytes': 0, 'bytes_written': 0, 'bytes_read': 0}, {'pid': 307, 'comm': 'weston', 'user': 'aleyi', 'container_id': nan, 'container_image': nan, 'wall_time_ms': 1757522094277})\n"
     ]
    }
   ],
   "source": [
    "records = []\n",
    "for i, row in X.iterrows():\n",
    "    record = row.to_dict()\n",
    "    # Keep context attached\n",
    "    records.append((record, context.iloc[i].to_dict()))\n",
    "\n",
    "print(\"\\nExample record with context:\")\n",
    "print(records[0])"
   ]
  },
  {
   "cell_type": "code",
   "execution_count": 7,
   "id": "3ab471d1-196a-4e8f-892e-66ae98158017",
   "metadata": {},
   "outputs": [],
   "source": [
    "from river import compose, preprocessing, anomaly, feature_extraction\n",
    "import numpy as np"
   ]
  },
  {
   "cell_type": "code",
   "execution_count": 8,
   "id": "7880e13d-d0d2-4ffe-b985-cc63d4bea9c6",
   "metadata": {},
   "outputs": [],
   "source": [
    "hst = compose.Pipeline(\n",
    "    preprocessing.MinMaxScaler(),\n",
    "    anomaly.HalfSpaceTrees(\n",
    "        n_trees=25,\n",
    "        height=8,\n",
    "        window_size=250,\n",
    "        seed=42\n",
    "    )\n",
    ")\n",
    "\n",
    "lof = model = compose.Pipeline(\n",
    "    preprocessing.StandardScaler(),   # <-- better for LOF\n",
    "    anomaly.LocalOutlierFactor(n_neighbors=35)\n",
    ")\n",
    "\n",
    "ocsvm_linear = model = compose.Pipeline(\n",
    "    preprocessing.StandardScaler(),\n",
    "    anomaly.OneClassSVM(nu=0.1, intercept_lr=0.01)\n",
    ")\n",
    "\n",
    "ocsvm_rbf = compose.Pipeline(\n",
    "    preprocessing.StandardScaler(),\n",
    "    feature_extraction.RBFSampler(n_components=50, seed=42),\n",
    "    anomaly.OneClassSVM(nu=0.1, intercept_lr=0.01)\n",
    ")"
   ]
  },
  {
   "cell_type": "code",
   "execution_count": 9,
   "id": "eee42241-107e-408b-9563-4b7481dede06",
   "metadata": {},
   "outputs": [],
   "source": [
    "\n",
    "results = []\n",
    "\n",
    "for features, meta in records:\n",
    "    # Get anomaly scores\n",
    "    s_hst = hst.score_one(features)\n",
    "    hst.learn_one(features)\n",
    "    s_lof = lof.score_one(features)\n",
    "    lof.learn_one(features)\n",
    "    s_ocsvm_lin = ocsvm_linear.score_one(features)\n",
    "    ocsvm_linear.learn_one(features)\n",
    "    s_ocsvm_rbf = ocsvm_rbf.score_one(features)\n",
    "    ocsvm_rbf.learn_one(features)\n",
    "\n",
    "    row = {**meta, **features,\n",
    "           \"hst_score\": s_hst,\n",
    "           \"lof_score\": s_lof,\n",
    "           \"ocsvm_linear_score\": s_ocsvm_lin,\n",
    "           \"ocsvm_rbf_score\": s_ocsvm_rbf}\n",
    "    results.append(row)\n",
    "\n",
    "df = pd.DataFrame(results)"
   ]
  },
  {
   "cell_type": "code",
   "execution_count": 10,
   "id": "489b274c-9979-423b-a0ca-39e7c4dcc480",
   "metadata": {},
   "outputs": [
    {
     "name": "stdout",
     "output_type": "stream",
     "text": [
      "📊 hst_score\n",
      "Mean: 0.0382, Std: 0.0988\n",
      "Min: 0.0000, Max: 0.9950\n",
      "95th percentile: 0.0747 → anomaly rate ~ 4.78%\n",
      "99th percentile: 0.6720 → anomaly rate ~ 1.02%\n",
      "\n",
      "📊 lof_score\n",
      "Mean: 6.5968, Std: 351.2722\n",
      "Min: 0.0000, Max: 24893.0546\n",
      "95th percentile: 2.6994 → anomaly rate ~ 5.02%\n",
      "99th percentile: 8.5252 → anomaly rate ~ 1.02%\n",
      "\n",
      "📊 ocsvm_linear_score\n",
      "Mean: 0.0170, Std: 0.7714\n",
      "Min: -0.2228, Max: 48.7503\n",
      "95th percentile: 0.0298 → anomaly rate ~ 5.02%\n",
      "99th percentile: 0.2314 → anomaly rate ~ 1.02%\n",
      "\n",
      "📊 ocsvm_rbf_score\n",
      "Mean: 3.5407, Std: 1.5292\n",
      "Min: 0.0000, Max: 6.9829\n",
      "95th percentile: 6.2886 → anomaly rate ~ 5.02%\n",
      "99th percentile: 6.7174 → anomaly rate ~ 1.02%\n",
      "\n"
     ]
    }
   ],
   "source": [
    "def summarize_scores(scores, name):\n",
    "    mean = scores.mean()\n",
    "    std = scores.std()\n",
    "    min_ = scores.min()\n",
    "    max_ = scores.max()\n",
    "    q95 = np.percentile(scores, 95)\n",
    "    q99 = np.percentile(scores, 99)\n",
    "    rate95 = (scores > q95).mean() * 100\n",
    "    rate99 = (scores > q99).mean() * 100\n",
    "    print(f\"📊 {name}\")\n",
    "    print(f\"Mean: {mean:.4f}, Std: {std:.4f}\")\n",
    "    print(f\"Min: {min_:.4f}, Max: {max_:.4f}\")\n",
    "    print(f\"95th percentile: {q95:.4f} → anomaly rate ~ {rate95:.2f}%\")\n",
    "    print(f\"99th percentile: {q99:.4f} → anomaly rate ~ {rate99:.2f}%\\n\")\n",
    "\n",
    "for col in [\"hst_score\", \"lof_score\", \"ocsvm_linear_score\", \"ocsvm_rbf_score\"]:\n",
    "    summarize_scores(df[col], col)"
   ]
  },
  {
   "cell_type": "code",
   "execution_count": 11,
   "id": "f9c5c11b-ab54-44c3-8f9f-a085e65a8921",
   "metadata": {},
   "outputs": [
    {
     "name": "stdout",
     "output_type": "stream",
     "text": [
      "Overlap HST & LOF: 3\n",
      "Overlap HST & OCSVM (linear): 3\n",
      "Overlap HST & OCSVM (rbf): 0\n",
      "Overlap LOF & OCSVM (linear): 7\n",
      "Overlap LOF & OCSVM (rbf): 10\n"
     ]
    }
   ],
   "source": [
    "def top_anomalies(series, q=99):\n",
    "    return set(df.loc[series > np.percentile(series, q), \"pid\"])\n",
    "\n",
    "anoms_hst = top_anomalies(df[\"hst_score\"])\n",
    "anoms_lof = top_anomalies(df[\"lof_score\"])\n",
    "anoms_lin = top_anomalies(df[\"ocsvm_linear_score\"])\n",
    "anoms_rbf = top_anomalies(df[\"ocsvm_rbf_score\"])\n",
    "\n",
    "print(\"Overlap HST & LOF:\", len(anoms_hst & anoms_lof))\n",
    "print(\"Overlap HST & OCSVM (linear):\", len(anoms_hst & anoms_lin))\n",
    "print(\"Overlap HST & OCSVM (rbf):\", len(anoms_hst & anoms_rbf))\n",
    "print(\"Overlap LOF & OCSVM (linear):\", len(anoms_lof & anoms_lin))\n",
    "print(\"Overlap LOF & OCSVM (rbf):\", len(anoms_lof & anoms_rbf))"
   ]
  },
  {
   "cell_type": "code",
   "execution_count": 12,
   "id": "5ed20b20-52ce-4242-91dc-b15296162047",
   "metadata": {},
   "outputs": [
    {
     "data": {
      "text/plain": [
       "{1292, 3798, 7414}"
      ]
     },
     "metadata": {},
     "output_type": "display_data"
    }
   ],
   "source": [
    "display(anoms_hst)"
   ]
  },
  {
   "cell_type": "code",
   "execution_count": null,
   "id": "1977adbd-3b86-4207-a8bb-c70869226f14",
   "metadata": {},
   "outputs": [],
   "source": []
  }
 ],
 "metadata": {
  "kernelspec": {
   "display_name": "Python 3 (ipykernel)",
   "language": "python",
   "name": "python3"
  },
  "language_info": {
   "codemirror_mode": {
    "name": "ipython",
    "version": 3
   },
   "file_extension": ".py",
   "mimetype": "text/x-python",
   "name": "python",
   "nbconvert_exporter": "python",
   "pygments_lexer": "ipython3",
   "version": "3.13.5"
  }
 },
 "nbformat": 4,
 "nbformat_minor": 5
}
